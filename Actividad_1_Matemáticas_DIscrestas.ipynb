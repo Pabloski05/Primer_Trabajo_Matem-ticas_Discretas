{
  "nbformat": 4,
  "nbformat_minor": 0,
  "metadata": {
    "colab": {
      "provenance": []
    },
    "kernelspec": {
      "name": "python3",
      "display_name": "Python 3"
    },
    "language_info": {
      "name": "python"
    }
  },
  "cells": [
    {
      "cell_type": "markdown",
      "source": [
        "**Para algun (Existencial )**"
      ],
      "metadata": {
        "id": "jSu4xP_zcmhh"
      }
    },
    {
      "cell_type": "code",
      "execution_count": null,
      "metadata": {
        "id": "zCtLA_Mxb09F"
      },
      "outputs": [],
      "source": [
        "import sympy as sp\n",
        "from sympy.abc import x, y\n",
        "\n",
        "domain = range(1, 11) # Modifique el dominio de acuerdo al problema asignado.\n",
        "\n",
        "def universal_quantifier(predicate, domain):\n",
        "    return all(predicate(i) for i in domain)\n",
        "\n",
        "def existential_quantifier(predicate, domain):\n",
        "    return any(predicate(i) for i in domain)\n",
        "\n",
        "# Example predicates\n",
        "P = lambda x: x % 2 == 0\n",
        "Q = lambda x: x > 5\n",
        "\n",
        "print(\"∀x (x is even):\", universal_quantifier(P, domain))\n",
        "print(\"∀x (x > 0):\", universal_quantifier(lambda x: x > 0, domain))\n",
        "print(\"∀x (x > 5):\", universal_quantifier(Q, domain))\n",
        "\n",
        "print(\"∃x (x is even):\", existential_quantifier(P, domain))\n",
        "print(\"∃x (x > 10):\", existential_quantifier(lambda x: x > 10, domain))\n",
        "print(\"∃x (x > 5):\", existential_quantifier(Q, domain))"
      ]
    },
    {
      "cell_type": "markdown",
      "source": [
        "**Para todos (Universal)**"
      ],
      "metadata": {
        "id": "5MgwJQz_ctQb"
      }
    },
    {
      "cell_type": "code",
      "source": [
        "import sympy as sp\n",
        "from sympy.abc import x, y\n",
        "\n",
        "domain_x = range(1, 11) # Modifique el dominio de acuerdo al problema asignado.\n",
        "domain_y = range(1, 11) # Modifique el dominio de acuerdo al problema asignado.\n",
        "\n",
        "def nested_quantifier(predicate, domain_x, domain_y):\n",
        "    for i in domain_x:\n",
        "        found = False\n",
        "        for j in domain_y:\n",
        "            if predicate(i, j):\n",
        "                print(f\"x = {i}, y = {j}, P(x, y) = {predicate(i, j)}\")\n",
        "                found = True\n",
        "                break\n",
        "        if not found:\n",
        "            return False\n",
        "    return True\n",
        "\n",
        "P = lambda x, y: (x + y) % 2 == 0\n",
        "\n",
        "print(\"\\nSo, the full expression: ∀x ∃y (x + y is even) is:\", nested_quantifier(P, domain_x, domain_y))\n"
      ],
      "metadata": {
        "id": "CznEhPWIcfqy"
      },
      "execution_count": null,
      "outputs": []
    },
    {
      "cell_type": "code",
      "source": [
        "import math\n",
        "\n",
        "domain_x = range(-5, 6)\n",
        "domain_y = range(-10, 11)\n",
        "\n",
        "def nested_existential_cos(domain_x, domain_y):\n",
        "    for x in domain_x:\n",
        "        found = False\n",
        "        for y in domain_y:\n",
        "            #Intrucción: El predicado es cos(x+y) < 1/2\n",
        "            if math.cos(x + y) < 0.5:\n",
        "                print(f\"x = {x}, y = {y}, cos(x+y) = {math.cos(x+y):.3f}\")\n",
        "                found = True\n",
        "                break\n",
        "        if not found:\n",
        "            return False\n",
        "    return True\n",
        "\n",
        "print(\"∀x ∃y (cos(x+y) < 1/2) is: \", nested_existential_cos(domain_x, domain_y))"
      ],
      "metadata": {
        "colab": {
          "base_uri": "https://localhost:8080/"
        },
        "id": "jxD3EM3dpZsd",
        "outputId": "c30d02aa-8c4e-40df-e087-a1d82a3fd189"
      },
      "execution_count": 5,
      "outputs": [
        {
          "output_type": "stream",
          "name": "stdout",
          "text": [
            "x = -5, y = -10, cos(x+y) = -0.760\n",
            "x = -4, y = -10, cos(x+y) = 0.137\n",
            "x = -3, y = -8, cos(x+y) = 0.004\n",
            "x = -2, y = -9, cos(x+y) = 0.004\n",
            "x = -1, y = -10, cos(x+y) = 0.004\n",
            "x = 0, y = -10, cos(x+y) = -0.839\n",
            "x = 1, y = -10, cos(x+y) = -0.911\n",
            "x = 2, y = -10, cos(x+y) = -0.146\n",
            "x = 3, y = -8, cos(x+y) = 0.284\n",
            "x = 4, y = -9, cos(x+y) = 0.284\n",
            "x = 5, y = -10, cos(x+y) = 0.284\n",
            "∀x ∃y (cos(x+y) < 1/2): True\n"
          ]
        }
      ]
    },
    {
      "cell_type": "code",
      "source": [
        "domain = range(-5, 6)  # dominio de enteros pequeños\n",
        "\n",
        "def es_par(n):\n",
        "    return n % 2 == 0\n",
        "\n",
        "def proposicion(a, domain):\n",
        "    return any(es_par(a + b) for b in domain)\n",
        "\n",
        "resultado = all(proposicion(a, domain) for a in domain)\n",
        "\n",
        "print(\"∀a ∃b tal que a+b es par:\", resultado)"
      ],
      "metadata": {
        "colab": {
          "base_uri": "https://localhost:8080/"
        },
        "id": "FoyfdIAOtvi6",
        "outputId": "a3061adb-2621-47c4-84fe-b66e5f1b780c"
      },
      "execution_count": 6,
      "outputs": [
        {
          "output_type": "stream",
          "name": "stdout",
          "text": [
            "∀a ∃b tal que a+b es par: True\n"
          ]
        }
      ]
    }
  ]
}